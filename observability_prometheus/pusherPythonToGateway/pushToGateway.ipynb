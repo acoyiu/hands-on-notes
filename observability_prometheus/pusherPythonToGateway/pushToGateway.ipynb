{
 "cells": [
  {
   "cell_type": "code",
   "execution_count": 7,
   "metadata": {},
   "outputs": [],
   "source": [
    "from prometheus_client import CollectorRegistry, Gauge, Counter, push_to_gateway\n",
    "\n",
    "registry = CollectorRegistry()\n",
    "\n",
    "g = Gauge(\n",
    "    name='jtyjtyj',\n",
    "    documentation='rthrh',\n",
    "    labelnames=['method', 'endpoint'],\n",
    "    registry=registry,\n",
    ")\n",
    "\n",
    "g.labels(method='post', endpoint='/submit').set(4.2)\n",
    "\n",
    "# g.inc()\n",
    "# g.dec(10)\n",
    "\n",
    "# g.set_to_current_time()\n",
    "\n",
    "c = Counter(\n",
    "    'zxczx',\n",
    "    'HTTP Failures',\n",
    "    ['method', 'endpoint'],\n",
    "    registry=registry\n",
    ")\n",
    "c.labels(method='get', endpoint='/').inc()\n",
    "c.labels(method='post', endpoint='/submit').inc(2)\n",
    "\n",
    "push_to_gateway('localhost:9091', job='aco-job-name', registry=registry)\n"
   ]
  }
 ],
 "metadata": {
  "interpreter": {
   "hash": "aee8b7b246df8f9039afb4144a1f6fd8d2ca17a180786b69acc140d282b71a49"
  },
  "kernelspec": {
   "display_name": "Python 3.10.4 64-bit",
   "language": "python",
   "name": "python3"
  },
  "language_info": {
   "codemirror_mode": {
    "name": "ipython",
    "version": 3
   },
   "file_extension": ".py",
   "mimetype": "text/x-python",
   "name": "python",
   "nbconvert_exporter": "python",
   "pygments_lexer": "ipython3",
   "version": "3.10.4"
  },
  "orig_nbformat": 4
 },
 "nbformat": 4,
 "nbformat_minor": 2
}
